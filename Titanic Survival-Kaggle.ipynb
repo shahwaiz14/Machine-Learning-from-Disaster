{
 "cells": [
  {
   "cell_type": "markdown",
   "metadata": {},
   "source": [
    "# Titanic Survival Predictions"
   ]
  },
  {
   "cell_type": "markdown",
   "metadata": {},
   "source": [
    "Import pandas, then turn the CSV file into pandas DataFrame."
   ]
  },
  {
   "cell_type": "code",
   "execution_count": 1153,
   "metadata": {},
   "outputs": [
    {
     "data": {
      "text/html": [
       "<div>\n",
       "<style scoped>\n",
       "    .dataframe tbody tr th:only-of-type {\n",
       "        vertical-align: middle;\n",
       "    }\n",
       "\n",
       "    .dataframe tbody tr th {\n",
       "        vertical-align: top;\n",
       "    }\n",
       "\n",
       "    .dataframe thead th {\n",
       "        text-align: right;\n",
       "    }\n",
       "</style>\n",
       "<table border=\"1\" class=\"dataframe\">\n",
       "  <thead>\n",
       "    <tr style=\"text-align: right;\">\n",
       "      <th></th>\n",
       "      <th>Survived</th>\n",
       "      <th>Pclass</th>\n",
       "      <th>Name</th>\n",
       "      <th>Sex</th>\n",
       "      <th>Age</th>\n",
       "      <th>SibSp</th>\n",
       "      <th>Parch</th>\n",
       "      <th>Ticket</th>\n",
       "      <th>Fare</th>\n",
       "      <th>Cabin</th>\n",
       "      <th>Embarked</th>\n",
       "    </tr>\n",
       "    <tr>\n",
       "      <th>PassengerId</th>\n",
       "      <th></th>\n",
       "      <th></th>\n",
       "      <th></th>\n",
       "      <th></th>\n",
       "      <th></th>\n",
       "      <th></th>\n",
       "      <th></th>\n",
       "      <th></th>\n",
       "      <th></th>\n",
       "      <th></th>\n",
       "      <th></th>\n",
       "    </tr>\n",
       "  </thead>\n",
       "  <tbody>\n",
       "    <tr>\n",
       "      <th>1</th>\n",
       "      <td>0</td>\n",
       "      <td>3</td>\n",
       "      <td>Braund, Mr. Owen Harris</td>\n",
       "      <td>male</td>\n",
       "      <td>22.0</td>\n",
       "      <td>1</td>\n",
       "      <td>0</td>\n",
       "      <td>A/5 21171</td>\n",
       "      <td>7.2500</td>\n",
       "      <td>NaN</td>\n",
       "      <td>S</td>\n",
       "    </tr>\n",
       "    <tr>\n",
       "      <th>2</th>\n",
       "      <td>1</td>\n",
       "      <td>1</td>\n",
       "      <td>Cumings, Mrs. John Bradley (Florence Briggs Th...</td>\n",
       "      <td>female</td>\n",
       "      <td>38.0</td>\n",
       "      <td>1</td>\n",
       "      <td>0</td>\n",
       "      <td>PC 17599</td>\n",
       "      <td>71.2833</td>\n",
       "      <td>C85</td>\n",
       "      <td>C</td>\n",
       "    </tr>\n",
       "    <tr>\n",
       "      <th>3</th>\n",
       "      <td>1</td>\n",
       "      <td>3</td>\n",
       "      <td>Heikkinen, Miss. Laina</td>\n",
       "      <td>female</td>\n",
       "      <td>26.0</td>\n",
       "      <td>0</td>\n",
       "      <td>0</td>\n",
       "      <td>STON/O2. 3101282</td>\n",
       "      <td>7.9250</td>\n",
       "      <td>NaN</td>\n",
       "      <td>S</td>\n",
       "    </tr>\n",
       "    <tr>\n",
       "      <th>4</th>\n",
       "      <td>1</td>\n",
       "      <td>1</td>\n",
       "      <td>Futrelle, Mrs. Jacques Heath (Lily May Peel)</td>\n",
       "      <td>female</td>\n",
       "      <td>35.0</td>\n",
       "      <td>1</td>\n",
       "      <td>0</td>\n",
       "      <td>113803</td>\n",
       "      <td>53.1000</td>\n",
       "      <td>C123</td>\n",
       "      <td>S</td>\n",
       "    </tr>\n",
       "    <tr>\n",
       "      <th>5</th>\n",
       "      <td>0</td>\n",
       "      <td>3</td>\n",
       "      <td>Allen, Mr. William Henry</td>\n",
       "      <td>male</td>\n",
       "      <td>35.0</td>\n",
       "      <td>0</td>\n",
       "      <td>0</td>\n",
       "      <td>373450</td>\n",
       "      <td>8.0500</td>\n",
       "      <td>NaN</td>\n",
       "      <td>S</td>\n",
       "    </tr>\n",
       "  </tbody>\n",
       "</table>\n",
       "</div>"
      ],
      "text/plain": [
       "             Survived  Pclass  \\\n",
       "PassengerId                     \n",
       "1                   0       3   \n",
       "2                   1       1   \n",
       "3                   1       3   \n",
       "4                   1       1   \n",
       "5                   0       3   \n",
       "\n",
       "                                                          Name     Sex   Age  \\\n",
       "PassengerId                                                                    \n",
       "1                                      Braund, Mr. Owen Harris    male  22.0   \n",
       "2            Cumings, Mrs. John Bradley (Florence Briggs Th...  female  38.0   \n",
       "3                                       Heikkinen, Miss. Laina  female  26.0   \n",
       "4                 Futrelle, Mrs. Jacques Heath (Lily May Peel)  female  35.0   \n",
       "5                                     Allen, Mr. William Henry    male  35.0   \n",
       "\n",
       "             SibSp  Parch            Ticket     Fare Cabin Embarked  \n",
       "PassengerId                                                          \n",
       "1                1      0         A/5 21171   7.2500   NaN        S  \n",
       "2                1      0          PC 17599  71.2833   C85        C  \n",
       "3                0      0  STON/O2. 3101282   7.9250   NaN        S  \n",
       "4                1      0            113803  53.1000  C123        S  \n",
       "5                0      0            373450   8.0500   NaN        S  "
      ]
     },
     "execution_count": 1153,
     "metadata": {},
     "output_type": "execute_result"
    }
   ],
   "source": [
    "import numpy as np\n",
    "import pandas as pd\n",
    "%matplotlib inline\n",
    "\n",
    "tt = pd.read_csv(\"train.csv\", index_col = 0)\n",
    "tt.head()"
   ]
  },
  {
   "cell_type": "code",
   "execution_count": 1154,
   "metadata": {},
   "outputs": [
    {
     "name": "stdout",
     "output_type": "stream",
     "text": [
      "(891, 11)\n",
      "<class 'pandas.core.frame.DataFrame'>\n",
      "Int64Index: 891 entries, 1 to 891\n",
      "Data columns (total 11 columns):\n",
      "Survived    891 non-null int64\n",
      "Pclass      891 non-null int64\n",
      "Name        891 non-null object\n",
      "Sex         891 non-null object\n",
      "Age         714 non-null float64\n",
      "SibSp       891 non-null int64\n",
      "Parch       891 non-null int64\n",
      "Ticket      891 non-null object\n",
      "Fare        891 non-null float64\n",
      "Cabin       204 non-null object\n",
      "Embarked    889 non-null object\n",
      "dtypes: float64(2), int64(4), object(5)\n",
      "memory usage: 83.5+ KB\n"
     ]
    }
   ],
   "source": [
    "print (tt.shape)\n",
    "tt.info()"
   ]
  },
  {
   "cell_type": "markdown",
   "metadata": {},
   "source": [
    "So we have 891 instances  **(rows)** and 11 features **(columns)**.\n",
    "\n",
    "We also notice that Age, Cabin, and Embarked columns contain missing values.\n",
    "\n",
    "We are going to look at each feature (column) **separately**.\n",
    "\n",
    "First, we will see how many people survived the crash. 0 = No & 1 = Yes. This is also the label, so it is better we\n",
    "drop this from the table tt and store it in a new variable, say test_label."
   ]
  },
  {
   "cell_type": "code",
   "execution_count": 1155,
   "metadata": {},
   "outputs": [
    {
     "data": {
      "text/plain": [
       "0    549\n",
       "1    342\n",
       "Name: Survived, dtype: int64"
      ]
     },
     "execution_count": 1155,
     "metadata": {},
     "output_type": "execute_result"
    }
   ],
   "source": [
    "train_labels = tt.Survived\n",
    "train_labels = train_labels.astype('int')\n",
    "train_labels.value_counts()"
   ]
  },
  {
   "cell_type": "markdown",
   "metadata": {},
   "source": [
    "Lets see how many males and females are there & and how many of each gender survived."
   ]
  },
  {
   "cell_type": "code",
   "execution_count": 1156,
   "metadata": {},
   "outputs": [
    {
     "data": {
      "text/plain": [
       "Sex     Survived\n",
       "female  1           233\n",
       "        0            81\n",
       "male    0           468\n",
       "        1           109\n",
       "Name: Survived, dtype: int64"
      ]
     },
     "execution_count": 1156,
     "metadata": {},
     "output_type": "execute_result"
    }
   ],
   "source": [
    "tt.groupby(['Sex']).Survived.value_counts()"
   ]
  },
  {
   "cell_type": "markdown",
   "metadata": {},
   "source": [
    "Lets see how many survived from each Pclass. 0 = Did Not Survive, 1 = Survived"
   ]
  },
  {
   "cell_type": "code",
   "execution_count": 1157,
   "metadata": {
    "scrolled": true
   },
   "outputs": [
    {
     "data": {
      "text/plain": [
       "Pclass  Survived\n",
       "1       1           136\n",
       "        0            80\n",
       "2       0            97\n",
       "        1            87\n",
       "3       0           372\n",
       "        1           119\n",
       "Name: Survived, dtype: int64"
      ]
     },
     "execution_count": 1157,
     "metadata": {},
     "output_type": "execute_result"
    }
   ],
   "source": [
    "tt.groupby(['Pclass']).Survived.value_counts()\n",
    "#tt.loc[:, ['Pclass','Survived']].groupby('Pclass')"
   ]
  },
  {
   "cell_type": "markdown",
   "metadata": {},
   "source": [
    "We will create a new column named **familySize** that will be the sum of SibSp and Parch.\n",
    "\n",
    "Then we will create another column, **isAlone**, whose value will be 0 or 1 (if not alone)."
   ]
  },
  {
   "cell_type": "code",
   "execution_count": 1158,
   "metadata": {},
   "outputs": [
    {
     "data": {
      "text/html": [
       "<div>\n",
       "<style scoped>\n",
       "    .dataframe tbody tr th:only-of-type {\n",
       "        vertical-align: middle;\n",
       "    }\n",
       "\n",
       "    .dataframe tbody tr th {\n",
       "        vertical-align: top;\n",
       "    }\n",
       "\n",
       "    .dataframe thead th {\n",
       "        text-align: right;\n",
       "    }\n",
       "</style>\n",
       "<table border=\"1\" class=\"dataframe\">\n",
       "  <thead>\n",
       "    <tr style=\"text-align: right;\">\n",
       "      <th></th>\n",
       "      <th>familySize</th>\n",
       "      <th>isAlone</th>\n",
       "    </tr>\n",
       "    <tr>\n",
       "      <th>PassengerId</th>\n",
       "      <th></th>\n",
       "      <th></th>\n",
       "    </tr>\n",
       "  </thead>\n",
       "  <tbody>\n",
       "    <tr>\n",
       "      <th>1</th>\n",
       "      <td>1</td>\n",
       "      <td>0</td>\n",
       "    </tr>\n",
       "    <tr>\n",
       "      <th>2</th>\n",
       "      <td>1</td>\n",
       "      <td>0</td>\n",
       "    </tr>\n",
       "    <tr>\n",
       "      <th>3</th>\n",
       "      <td>0</td>\n",
       "      <td>1</td>\n",
       "    </tr>\n",
       "    <tr>\n",
       "      <th>4</th>\n",
       "      <td>1</td>\n",
       "      <td>0</td>\n",
       "    </tr>\n",
       "  </tbody>\n",
       "</table>\n",
       "</div>"
      ],
      "text/plain": [
       "             familySize  isAlone\n",
       "PassengerId                     \n",
       "1                     1        0\n",
       "2                     1        0\n",
       "3                     0        1\n",
       "4                     1        0"
      ]
     },
     "execution_count": 1158,
     "metadata": {},
     "output_type": "execute_result"
    }
   ],
   "source": [
    "tt['familySize'] = tt['SibSp'] + tt['Parch']\n",
    "tt.groupby('familySize').Survived.value_counts()\n",
    "tt['isAlone'] = tt['familySize']\n",
    "\n",
    "def checkAlone(x):\n",
    "    if x > 0:return 0\n",
    "    else: return 1\n",
    "        \n",
    "tt.isAlone = tt.isAlone.apply(checkAlone)\n",
    "tt.loc[:,['familySize', 'isAlone']].head(4)"
   ]
  },
  {
   "cell_type": "markdown",
   "metadata": {},
   "source": [
    "Lets see the Embarked column; it has 2 missing entry. We are going to replace the missing values by the most ocurring class."
   ]
  },
  {
   "cell_type": "code",
   "execution_count": 1159,
   "metadata": {
    "scrolled": false
   },
   "outputs": [
    {
     "data": {
      "text/plain": [
       "Embarked  Survived\n",
       "C         1            93\n",
       "          0            75\n",
       "Q         0            47\n",
       "          1            30\n",
       "S         0           427\n",
       "          1           219\n",
       "Name: Survived, dtype: int64"
      ]
     },
     "execution_count": 1159,
     "metadata": {},
     "output_type": "execute_result"
    }
   ],
   "source": [
    "tt['Embarked'] = tt.Embarked.fillna('S')\n",
    "tt.groupby('Embarked').Survived.value_counts()"
   ]
  },
  {
   "cell_type": "markdown",
   "metadata": {},
   "source": [
    "Lets check the Fare column. And use binning to categorize this column."
   ]
  },
  {
   "cell_type": "code",
   "execution_count": 1160,
   "metadata": {},
   "outputs": [
    {
     "data": {
      "text/plain": [
       "categoricalFare  Survived\n",
       "(-0.001, 7.91]   0           179\n",
       "                 1            44\n",
       "(7.91, 14.454]   0           156\n",
       "                 1            68\n",
       "(14.454, 31.0]   0           121\n",
       "                 1           101\n",
       "(31.0, 512.329]  1           129\n",
       "                 0            93\n",
       "Name: Survived, dtype: int64"
      ]
     },
     "execution_count": 1160,
     "metadata": {},
     "output_type": "execute_result"
    }
   ],
   "source": [
    "tt.Fare.describe()\n",
    "tt['categoricalFare'] = pd.qcut(tt.Fare,4)\n",
    "tt.groupby('categoricalFare').Survived.value_counts()"
   ]
  },
  {
   "cell_type": "markdown",
   "metadata": {},
   "source": [
    "Age has 177 missing values. We are going to use binning in age after we fill in the missing values."
   ]
  },
  {
   "cell_type": "code",
   "execution_count": 1161,
   "metadata": {},
   "outputs": [
    {
     "data": {
      "text/plain": [
       "categoricalAge    Survived\n",
       "(0.34, 16.336]    0            77\n",
       "                  1            69\n",
       "(16.336, 32.252]  0           277\n",
       "                  1           149\n",
       "(32.252, 48.168]  0           142\n",
       "                  1            90\n",
       "(48.168, 64.084]  0            43\n",
       "                  1            33\n",
       "(64.084, 80.0]    0            10\n",
       "                  1             1\n",
       "Name: Survived, dtype: int64"
      ]
     },
     "execution_count": 1161,
     "metadata": {},
     "output_type": "execute_result"
    }
   ],
   "source": [
    "tt.Age.isnull().value_counts() #tells us how many rows are missing age\n",
    "upper = tt.Age.mean() + 1.5*tt.Age.std()\n",
    "lower = tt.Age.mean() - 1.5*tt.Age.std()\n",
    "np.random.seed(1)\n",
    "random_age = np.random.randint(lower,upper,177)\n",
    "age = [x for x in random_age]\n",
    "tt.loc[tt.Age.isnull(), 'Age'] = age\n",
    "tt['categoricalAge'] = pd.cut(tt.Age,5)\n",
    "tt.groupby('categoricalAge').Survived.value_counts()"
   ]
  },
  {
   "cell_type": "markdown",
   "metadata": {},
   "source": [
    "# Data Cleaning"
   ]
  },
  {
   "cell_type": "markdown",
   "metadata": {},
   "source": [
    "Now we will turn the non-numerical data into numerical values to feed into our ML model.\n",
    "\n",
    "tt.isAlone is already done."
   ]
  },
  {
   "cell_type": "code",
   "execution_count": 1162,
   "metadata": {
    "scrolled": true
   },
   "outputs": [
    {
     "name": "stdout",
     "output_type": "stream",
     "text": [
      "             Pclass  Sex  Age  Fare  Embarked  isAlone\n",
      "PassengerId                                           \n",
      "1                 3    1    1     0         0        0\n",
      "2                 1    0    2     3         1        0\n",
      "3                 3    0    1     1         0        1\n",
      "4                 1    0    2     3         0        0\n",
      "5                 3    1    2     1         0        1\n",
      "6                 3    1    2     1         2        1\n",
      "7                 1    1    3     3         0        1\n",
      "8                 3    1    0     2         0        0\n",
      "9                 3    0    1     1         0        0\n",
      "10                2    0    0     2         1        0\n"
     ]
    }
   ],
   "source": [
    "tt['Sex'] = tt.Sex.map({'female':0, 'male':1}) #mapping Sex column\n",
    "\n",
    "tt['Embarked'] = tt.Embarked.map({'S':0,'C':1,'Q':2}).astype(int) #mapping Embarked column\n",
    "\n",
    "#mapping Fare column\n",
    "tt.loc[(tt.Fare > -0.001) & (tt.Fare <= 7.91), 'Fare'] = 0\n",
    "tt.loc[(tt.Fare > 7.91) & (tt.Fare <= 14.454), 'Fare'] = 1\n",
    "tt.loc[(tt.Fare > 14.454) & (tt.Fare <= 31), 'Fare'] = 2\n",
    "tt.loc[(tt.Fare > 31) & (tt.Fare <= 512.329), 'Fare'] = 3\n",
    "\n",
    "#mapping Age column\n",
    "tt.loc[tt['Age'] <= 16, 'Age'] = 0\n",
    "tt.loc[(tt['Age'] > 16) & (tt['Age'] <= 32), 'Age'] = 1\n",
    "tt.loc[(tt['Age'] > 32) & (tt['Age'] <= 48), 'Age'] = 2\n",
    "tt.loc[(tt['Age'] > 48) & (tt['Age'] <= 64), 'Age'] = 3\n",
    "tt.loc[tt['Age'] > 64, 'Age'] = 4\n",
    "\n",
    "tt.Fare = tt.Fare.astype('int')\n",
    "tt.Age = tt.Age.astype('int')\n",
    "\n",
    "#Feature Selection\n",
    "drop_features = ['Survived','Name','SibSp','Parch','Ticket','Cabin','familySize','categoricalFare','categoricalAge']\n",
    "tt = tt.drop(drop_features, axis=1)\n",
    "print (tt.head(10))\n",
    "train = tt.values"
   ]
  },
  {
   "cell_type": "markdown",
   "metadata": {},
   "source": [
    "Let us now feed this data into our machine learning model & **train the decision tree**."
   ]
  },
  {
   "cell_type": "code",
   "execution_count": 1163,
   "metadata": {},
   "outputs": [],
   "source": [
    "from sklearn.tree import DecisionTreeClassifier\n",
    "\n",
    "dtclass = DecisionTreeClassifier(criterion = 'entropy').fit(train,train_labels)"
   ]
  },
  {
   "cell_type": "markdown",
   "metadata": {},
   "source": [
    "We have trained our decision tree. Now it's time to **clean** our test data so we can make predictions."
   ]
  },
  {
   "cell_type": "code",
   "execution_count": 1164,
   "metadata": {
    "scrolled": true
   },
   "outputs": [
    {
     "name": "stdout",
     "output_type": "stream",
     "text": [
      "             Pclass                                          Name     Sex  \\\n",
      "PassengerId                                                                 \n",
      "892               3                              Kelly, Mr. James    male   \n",
      "893               3              Wilkes, Mrs. James (Ellen Needs)  female   \n",
      "894               2                     Myles, Mr. Thomas Francis    male   \n",
      "895               3                              Wirz, Mr. Albert    male   \n",
      "896               3  Hirvonen, Mrs. Alexander (Helga E Lindqvist)  female   \n",
      "\n",
      "              Age  SibSp  Parch   Ticket     Fare Cabin Embarked  \n",
      "PassengerId                                                       \n",
      "892          34.5      0      0   330911   7.8292   NaN        Q  \n",
      "893          47.0      1      0   363272   7.0000   NaN        S  \n",
      "894          62.0      0      0   240276   9.6875   NaN        Q  \n",
      "895          27.0      0      0   315154   8.6625   NaN        S  \n",
      "896          22.0      1      1  3101298  12.2875   NaN        S  \n",
      "<class 'pandas.core.frame.DataFrame'>\n",
      "Int64Index: 418 entries, 892 to 1309\n",
      "Data columns (total 10 columns):\n",
      "Pclass      418 non-null int64\n",
      "Name        418 non-null object\n",
      "Sex         418 non-null object\n",
      "Age         332 non-null float64\n",
      "SibSp       418 non-null int64\n",
      "Parch       418 non-null int64\n",
      "Ticket      418 non-null object\n",
      "Fare        417 non-null float64\n",
      "Cabin       91 non-null object\n",
      "Embarked    418 non-null object\n",
      "dtypes: float64(2), int64(3), object(5)\n",
      "memory usage: 35.9+ KB\n"
     ]
    }
   ],
   "source": [
    "test_data = pd.read_csv(\"test.csv\", index_col = 0)\n",
    "print (test_data.head())\n",
    "test_data.shape #418 intances\n",
    "test_data.info()"
   ]
  },
  {
   "cell_type": "code",
   "execution_count": 1165,
   "metadata": {
    "scrolled": false
   },
   "outputs": [
    {
     "data": {
      "text/html": [
       "<div>\n",
       "<style scoped>\n",
       "    .dataframe tbody tr th:only-of-type {\n",
       "        vertical-align: middle;\n",
       "    }\n",
       "\n",
       "    .dataframe tbody tr th {\n",
       "        vertical-align: top;\n",
       "    }\n",
       "\n",
       "    .dataframe thead th {\n",
       "        text-align: right;\n",
       "    }\n",
       "</style>\n",
       "<table border=\"1\" class=\"dataframe\">\n",
       "  <thead>\n",
       "    <tr style=\"text-align: right;\">\n",
       "      <th></th>\n",
       "      <th>Pclass</th>\n",
       "      <th>Sex</th>\n",
       "      <th>Age</th>\n",
       "      <th>Fare</th>\n",
       "      <th>Embarked</th>\n",
       "      <th>isAlone</th>\n",
       "    </tr>\n",
       "    <tr>\n",
       "      <th>PassengerId</th>\n",
       "      <th></th>\n",
       "      <th></th>\n",
       "      <th></th>\n",
       "      <th></th>\n",
       "      <th></th>\n",
       "      <th></th>\n",
       "    </tr>\n",
       "  </thead>\n",
       "  <tbody>\n",
       "    <tr>\n",
       "      <th>892</th>\n",
       "      <td>3</td>\n",
       "      <td>1</td>\n",
       "      <td>2</td>\n",
       "      <td>0</td>\n",
       "      <td>2</td>\n",
       "      <td>1</td>\n",
       "    </tr>\n",
       "    <tr>\n",
       "      <th>893</th>\n",
       "      <td>3</td>\n",
       "      <td>0</td>\n",
       "      <td>2</td>\n",
       "      <td>0</td>\n",
       "      <td>0</td>\n",
       "      <td>0</td>\n",
       "    </tr>\n",
       "    <tr>\n",
       "      <th>894</th>\n",
       "      <td>2</td>\n",
       "      <td>1</td>\n",
       "      <td>3</td>\n",
       "      <td>1</td>\n",
       "      <td>2</td>\n",
       "      <td>1</td>\n",
       "    </tr>\n",
       "    <tr>\n",
       "      <th>895</th>\n",
       "      <td>3</td>\n",
       "      <td>1</td>\n",
       "      <td>1</td>\n",
       "      <td>1</td>\n",
       "      <td>0</td>\n",
       "      <td>1</td>\n",
       "    </tr>\n",
       "    <tr>\n",
       "      <th>896</th>\n",
       "      <td>3</td>\n",
       "      <td>0</td>\n",
       "      <td>1</td>\n",
       "      <td>1</td>\n",
       "      <td>0</td>\n",
       "      <td>0</td>\n",
       "    </tr>\n",
       "    <tr>\n",
       "      <th>897</th>\n",
       "      <td>3</td>\n",
       "      <td>1</td>\n",
       "      <td>0</td>\n",
       "      <td>1</td>\n",
       "      <td>0</td>\n",
       "      <td>1</td>\n",
       "    </tr>\n",
       "    <tr>\n",
       "      <th>898</th>\n",
       "      <td>3</td>\n",
       "      <td>0</td>\n",
       "      <td>1</td>\n",
       "      <td>0</td>\n",
       "      <td>2</td>\n",
       "      <td>1</td>\n",
       "    </tr>\n",
       "  </tbody>\n",
       "</table>\n",
       "</div>"
      ],
      "text/plain": [
       "             Pclass  Sex  Age  Fare  Embarked  isAlone\n",
       "PassengerId                                           \n",
       "892               3    1    2     0         2        1\n",
       "893               3    0    2     0         0        0\n",
       "894               2    1    3     1         2        1\n",
       "895               3    1    1     1         0        1\n",
       "896               3    0    1     1         0        0\n",
       "897               3    1    0     1         0        1\n",
       "898               3    0    1     0         2        1"
      ]
     },
     "execution_count": 1165,
     "metadata": {},
     "output_type": "execute_result"
    }
   ],
   "source": [
    "test_data['Sex'] = test_data.Sex.map({'female':0, 'male':1}) #mapping Sex column\n",
    "test_data.Sex = test_data.Sex.astype(int)\n",
    "\n",
    "#creating a new column\n",
    "test_data['familySize'] = test_data['SibSp'] + test_data['Parch']\n",
    "test_data['isAlone'] = test_data['familySize']\n",
    "test_data['isAlone'] = test_data.familySize.apply(checkAlone)\n",
    "\n",
    "test_data['Embarked'] = test_data.Embarked.map({'S':0,'C':1,'Q':2}) #mapping the Embarked column\n",
    "\n",
    "#Fare has 1 missing value. We will replace it with the median. And then map it.\n",
    "test_data.Fare.median() # = 14.4542\n",
    "test_data['Fare'] = test_data.Fare.fillna(14.4542)\n",
    "test_data['categoricalFare'] = pd.qcut(test_data.Fare,4)\n",
    "test_data.loc[(test_data.Fare > -0.001) & (test_data.Fare <= 7.896), 'Fare'] = 0\n",
    "test_data.loc[(test_data.Fare > 7.896) & (test_data.Fare <= 14.454), 'Fare'] = 1\n",
    "test_data.loc[(test_data.Fare > 14.454) & (test_data.Fare <= 31.472), 'Fare'] = 2\n",
    "test_data.loc[(test_data.Fare > 31.472) & (test_data.Fare <= 512.329), 'Fare'] = 3\n",
    "test_data.Fare = test_data.Fare.astype(int)\n",
    "\n",
    "#Now we will transform the Age column. Age has 86 missing values\n",
    "uppert = test_data.Age.mean() + 1.5*test_data.Age.std()\n",
    "lowert = test_data.Age.mean() - 1.5*test_data.Age.std()\n",
    "random_aget = np.random.randint(lowert,uppert,86)\n",
    "aget = [x for x in random_aget]\n",
    "test_data.loc[test_data.Age.isnull(), 'Age'] = aget\n",
    "test_data['categoricalAge'] = pd.cut(test_data.Age,5)\n",
    "\n",
    "#mapping Age column\n",
    "test_data.loc[test_data['Age'] <= 16, 'Age'] = 0\n",
    "test_data.loc[(test_data['Age'] > 16) & (test_data['Age'] <= 32), 'Age'] = 1\n",
    "test_data.loc[(test_data['Age'] > 32) & (test_data['Age'] <= 48), 'Age'] = 2\n",
    "test_data.loc[(test_data['Age'] > 48) & (test_data['Age'] <= 64), 'Age'] = 3\n",
    "test_data.loc[test_data['Age'] > 64, 'Age'] = 4\n",
    "test_data.Age = test_data.Age.astype(int)\n",
    "\n",
    "test_data['Survived'] = 8\n",
    "#feature selection\n",
    "test_data = test_data.drop(drop_features, axis=1)\n",
    "\n",
    "test_val = test_data.values\n",
    "test_data.head(7)"
   ]
  },
  {
   "cell_type": "markdown",
   "metadata": {},
   "source": [
    "# Prediction using Decision Trees"
   ]
  },
  {
   "cell_type": "code",
   "execution_count": 1166,
   "metadata": {},
   "outputs": [],
   "source": [
    "#PREDICTION\n",
    "predictions = dtclass.predict(test_val)\n",
    "predictionsFrame = pd.DataFrame(predictions, columns = ['Survived'], index=test_data.index)\n",
    "\n",
    "#write the predictions to csv file\n",
    "predictionsFrame.to_csv('Desktop/Dtree.csv')\n",
    "\n",
    "#true = pd.read_csv(\"Desktop/truelabels.csv\", index_col = 0)\n",
    "#ACCURACY\n",
    "#acc = dtclass.score(test_val,true.values)"
   ]
  },
  {
   "cell_type": "markdown",
   "metadata": {},
   "source": [
    "# Training & Prediction using Random Forest"
   ]
  },
  {
   "cell_type": "code",
   "execution_count": 1168,
   "metadata": {},
   "outputs": [],
   "source": [
    "from sklearn.ensemble import RandomForestClassifier\n",
    "#Training\n",
    "rfc = RandomForestClassifier(n_estimators = 200).fit(train,train_labels)\n",
    "\n",
    "#Predictions\n",
    "predictions_rfc = rfc.predict(test_val)\n",
    "predictions_rfcFrame = pd.DataFrame(predictions_rfc, columns = ['Survived'], index=test_data.index)\n",
    "#write the predictions to csv file\n",
    "predictionsFrame.to_csv('Desktop/RF.csv')"
   ]
  },
  {
   "cell_type": "markdown",
   "metadata": {},
   "source": [
    "# Accuracy = 76.555%"
   ]
  }
 ],
 "metadata": {
  "kernelspec": {
   "display_name": "Python 3",
   "language": "python",
   "name": "python3"
  },
  "language_info": {
   "codemirror_mode": {
    "name": "ipython",
    "version": 3
   },
   "file_extension": ".py",
   "mimetype": "text/x-python",
   "name": "python",
   "nbconvert_exporter": "python",
   "pygments_lexer": "ipython3",
   "version": "3.6.4"
  }
 },
 "nbformat": 4,
 "nbformat_minor": 2
}
